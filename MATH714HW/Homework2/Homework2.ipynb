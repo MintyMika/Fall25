{
 "cells": [
  {
   "cell_type": "markdown",
   "id": "5e1c9151",
   "metadata": {},
   "source": [
    "#### MATH714 Homework 2\n",
    "##### Stephen Cornelius\n",
    "\n",
    "1. **Iterative Methods**\n",
    "   \n",
    "   (a) Consider the $2 \\times 2$ matrix\n",
    "   $$\n",
    "        A = \\begin{pmatrix}\n",
    "        1 & p \\\\\n",
    "        -p & 1\n",
    "        \\end{pmatrix}.\n",
    "   $$\n",
    "   Under what conditions will the Jacobi and Gauss-Seidel methods converge?"
   ]
  },
  {
   "cell_type": "markdown",
   "id": "3cbf4624",
   "metadata": {},
   "source": [
    "**Solution to 1(a):**\n",
    "\n",
    "> TODO: Look over this and figure out what it means. I do not think it is entirely correct.\n",
    "\n",
    "For the matrix $A = \\begin{pmatrix} 1 & p \\\\ -p & 1 \\end{pmatrix}$, we need to analyze the convergence conditions for both iterative methods.\n",
    "\n",
    "**Jacobi Method:**\n",
    "The Jacobi iteration matrix is $T_J = -D^{-1}(L+U)$ where $D$ is the diagonal, $L$ is the lower triangular, and $U$ is the upper triangular part of $A$.\n",
    "\n",
    "For our matrix:\n",
    "- $D = \\begin{pmatrix} 1 & 0 \\\\ 0 & 1 \\end{pmatrix}$\n",
    "- $L + U = \\begin{pmatrix} 0 & p \\\\ -p & 0 \\end{pmatrix}$\n",
    "\n",
    "Therefore: $T_J = -\\begin{pmatrix} 0 & p \\\\ -p & 0 \\end{pmatrix} = \\begin{pmatrix} 0 & -p \\\\ p & 0 \\end{pmatrix}$\n",
    "\n",
    "The eigenvalues of $T_J$ are found from $\\det(T_J - \\lambda I) = 0$:\n",
    "$$\\det\\begin{pmatrix} -\\lambda & -p \\\\ p & -\\lambda \\end{pmatrix} = \\lambda^2 + p^2 = 0$$\n",
    "\n",
    "So $\\lambda = \\pm ip$, and $|\\lambda| = |p|$.\n",
    "\n",
    "**Jacobi converges if and only if $\\rho(T_J) < 1$, which means $|p| < 1$.**\n",
    "\n",
    "**Gauss-Seidel Method:**\n",
    "The Gauss-Seidel iteration matrix is $T_{GS} = -(D+L)^{-1}U$.\n",
    "\n",
    "For our matrix:\n",
    "- $D + L = \\begin{pmatrix} 1 & 0 \\\\ -p & 1 \\end{pmatrix}$\n",
    "- $U = \\begin{pmatrix} 0 & p \\\\ 0 & 0 \\end{pmatrix}$\n",
    "\n",
    "Therefore: $T_{GS} = -\\begin{pmatrix} 1 & 0 \\\\ p & 1 \\end{pmatrix}\\begin{pmatrix} 0 & p \\\\ 0 & 0 \\end{pmatrix} = \\begin{pmatrix} 0 & -p \\\\ 0 & -p^2 \\end{pmatrix}$\n",
    "\n",
    "The eigenvalues are $\\lambda_1 = 0$ and $\\lambda_2 = -p^2$.\n",
    "\n",
    "**Gauss-Seidel converges if and only if $\\rho(T_{GS}) < 1$, which means $|p^2| < 1$, so $|p| < 1$.**\n",
    "\n",
    "**Conclusion:**\n",
    "Both the Jacobi and Gauss-Seidel methods converge for the given matrix if and only if $|p| < 1$."
   ]
  },
  {
   "cell_type": "markdown",
   "id": "4a71b38c",
   "metadata": {},
   "source": [
    "(b) Consider the $n \\times n$ matrix\n",
    "    $$\n",
    "        C = \\begin{pmatrix}\n",
    "        3 & -1 \\\\\n",
    "        -1 & 3 & -1 \\\\\n",
    "           & -1 & 3 & -1 \\\\\n",
    "           &    & & \\ddots &  \\\\\n",
    "           & & & -1 & 3 & -1  \\\\\n",
    "           & & & & -1 & 3 \n",
    "        \\end{pmatrix}.\n",
    "    $$\n",
    "    Starting from $u_0 \\in \\mathbb{R}^n$, for which values of $\\omega \\in \\mathbb{R}$ does the iteration \n",
    "    $$ u_{k+1} = u_k + \\omega(b-Cu_k) $$\n",
    "    for $k = 0,1,2,\\dots$ converge to a solution of $Cu = b$? What iterative method from the lectures does this most closely resemble? How is it different?"
   ]
  },
  {
   "cell_type": "markdown",
   "id": "fb743a54",
   "metadata": {},
   "source": [
    "**Solution to 1(b):**\n",
    "\n",
    "We are tasked with finding the values of $\\omega \\in \\mathbb{R}^n$ such that $u_{k+1} = u_k + \\omega(b - Cu_k)$ converges. If we let $T = I - \\omega C$ we have $$ u_{k+1} = u_k + \\omega (b - Cu_k) = u_k + \\omega b - \\omega Cu_k = u_k(I - \\omega C) + \\omega b = Tu_k + \\omega b.$$ So then we need that the spectral radius of $T$ needs to be less than $1$. So we find $\\rho(T)$. From the article, we have that $$ \\rho(T) = \\max \\{ \\left\\vert (1 - 3\\omega) + 2\\sqrt{\\vert (- \\omega)^2 \\vert} e^{\\frac{i(\\alpha + \\beta)}{2}} \\cos \\frac{\\pi}{n + 1}\\right\\vert, \\left\\vert (1 - 3\\omega) + 2\\sqrt{\\vert (- \\omega)^2 \\vert} e^{\\frac{i(\\alpha + \\beta)}{2}} \\cos \\frac{n \\pi}{n + 1}\\right\\vert\\}$$ where  in this case, $$\\alpha = \\beta = \\arg(-\\omega) = \\left\\{\\begin{matrix} \n",
    "\\pi & \\text{if } \\omega > 0 \\\\ \n",
    "0 & \\text{if } \\omega < 0 \n",
    "\\end{matrix}\\right. .$$\n",
    "In either case we have that $\\alpha + \\beta \\approx 2\\pi$. So then $$\\rho(T) = \\max \\{ \\left\\vert (1 - 3\\omega) - 2 \\omega \\cos \\frac{\\pi}{n + 1}\\right\\vert, \\left\\vert (1 - 3\\omega) - 2 \\omega \\cos \\frac{n \\pi}{n + 1}\\right\\vert\\} .$$\n",
    "Then we need $\\rho(T) < 1$. Then we have that the smallest interval on which $\\omega$ converges is when $n = 1$ and then we have that the method converges when $0 < \\omega < \\frac{2}{3}$. That is, $\\left\\vert (1 - 3\\omega) - 2 \\omega \\cos \\frac{\\pi}{2}\\right\\vert < 1 \\iff 0 < \\omega < \\frac{2}{3}$.\n",
    "\n",
    "Based on my observations, I would conclude that the iterative method from class that most closely resembles this method would be gradient descent. The difference would be that gradient descent finds the largest value of the gradient and this method uses more of a fixed parameter rather than optimal step sizes.\n",
    "\n",
    "***Comment(s):***\n",
    "- For help with this problem I used Desmos to graph $\\rho(T)$. From observation $\\omega$ always converges when $0 < \\omega < \\frac{2}{3}$ but since $n$ varies we can see that as $n \\to \\infty$ we have that the interval for $\\omega$ becomes $0 < \\omega < 2$."
   ]
  },
  {
   "cell_type": "markdown",
   "id": "060a6754",
   "metadata": {},
   "source": [
    "2. **Triangular domain revisited with conjugate gradient**\n",
    "   Question 4 of the first homework assignment looked at solving the Poisson equation\n",
    "   $$ \\nabla^2u = f$$\n",
    "   on the triangular domain $T$ with vertices $(0,0), (1,0),$ and $(s,\\frac{1}{2})$ where $s = \\frac{\\sqrt{3}}{2}$. Dirchlet boundary conditions $u = 0$ are applied on the boundary $\\partial T$. For $n \\in \\mathbb{N}$ and $h = \\frac{1}{n}$, the domain is descretized with points \n",
    "   $$ \\vec{x}_{i,j} = (h(i + \\frac{1}{2}j), hsj) $$\n",
    "   for $0 \\leq i \\leq n, 0 \\leq j \\leq n-i$. The points where $i = 0, j = 0,$ of $i + j = n$ are boundary points, and all others are interior. Let $u_{i,j}$ be the numberical approximation for $u(x_{i,j})$. The Laplacian is discretized with points\n",
    "   $$ \\nabla^2_6u_{i,j} = \\frac{2(-6 u_{i,j} + u_{i+1,j} + u_{i,j-1} + u_{i-1,j+1} +u_{i-1,j} + u_{i,j+1} + u_{i+1,j-1})}{3h^2}. $$\n",
    "   As in Homework 1, consider solving the equation $\\nabla^2u = f$ using the $f$ that creates the exact solution\n",
    "   $$ u^{\\text{ex}}(x,y) = \\left( (2y-\\sqrt{3})^2- 3(2x-1)^2 \\right) \\sin y. $$\n",
    "   The problem can be expressed as a linear system $Au = f$ where $u \\in \\mathbb{R}^N$ is the solution vector at the $N = (n-1)(n-2)/2$ interior grid points. Define an approximate $2$-norm as \n",
    "   $$ ||r||_2 = \\sqrt{\\frac{s}{2n^2} \\sum_{j=1}^{n-1} \\sum_{i=1}^{n-j-1} r_{i,j}^2} $$\n",
    "   for a vector $r$ describing a field on the grid.\n",
    "   \n",
    "   (a) For a range of grid sizes from $n=10$ up to at least $n=160$ measure the wall-clock time $T_n$ to solve the system using your code. By making a log--log plot of $T_n$ versus $n$, fit the timing data to $$T_n = a n^b,$$ and comment on the exponent $b$."
   ]
  },
  {
   "cell_type": "code",
   "execution_count": 47,
   "id": "2ad3740c",
   "metadata": {},
   "outputs": [
    {
     "name": "stdout",
     "output_type": "stream",
     "text": [
      "Fitted parameters: a = 6.286438464135656e-08, b = 3.6061045372517335\n"
     ]
    },
    {
     "data": {
      "image/png": "[encoded data removed]",
      "text/plain": [
       "<Figure size 640x480 with 1 Axes>"
      ]
     },
     "metadata": {},
     "output_type": "display_data"
    }
   ],
   "source": [
    "# For this problem I will be using the code poisson_tri.py from the Homework 1 solutions.\n",
    "\n",
    "# Below is the code from poisson_tri.py with modifications to solve the problem at hand.\n",
    "\n",
    "import numpy as np\n",
    "from math import *\n",
    "import sys\n",
    "import time \n",
    "import matplotlib.pyplot as plt\n",
    "\n",
    "\n",
    "s=sqrt(0.75)\n",
    "\n",
    "# Function to map an interior index (i,j) into the vector index\n",
    "def ind(i,j,n):\n",
    "    return i-1+(j-1)*(2*n-2-j)//2\n",
    "\n",
    "# Source term for the desired reference solution\n",
    "def fun(x,y):\n",
    "    return -8*(sqrt(3)-2*y)*cos(y)+4*(-4-3*x+3*x*x+sqrt(3)*y-y*y)*sin(y)\n",
    "\n",
    "# Reference solution\n",
    "def uex(x,y):\n",
    "    return ((2*y-sqrt(3))**2-3*(2*x-1)**2)*sin(y)\n",
    "\n",
    "# Function to check whether an index pair (i,j) is the interior of the grid\n",
    "def inrange(i,j,n):\n",
    "    return i>0 and j>0 and i+j<n\n",
    "\n",
    "def poisson_tri(n):\n",
    "    h=1./n\n",
    "    m=(n-1)*(n-2)//2\n",
    "\n",
    "    # Create derivative matrix and source term\n",
    "    d=np.zeros((m,m))\n",
    "    f=np.empty((m))\n",
    "    hfac=1/(3*h*h)\n",
    "    for j in range(1,n):\n",
    "        for i in range(1,n-j):\n",
    "            ij=ind(i,j,n)\n",
    "\n",
    "            # Derivative matrix\n",
    "            d[ij,ij]=-12*hfac\n",
    "            if(inrange(i+1,j,n)): d[ij,ind(i+1,j,n)]=2*hfac\n",
    "            if(inrange(i,j-1,n)): d[ij,ind(i,j-1,n)]=2*hfac\n",
    "            if(inrange(i-1,j+1,n)): d[ij,ind(i-1,j+1,n)]=2*hfac\n",
    "\n",
    "            # Additional lines for the stencil in part (b)\n",
    "            if(inrange(i-1,j,n)): d[ij,ind(i-1,j,n)]=2*hfac\n",
    "            if(inrange(i,j+1,n)): d[ij,ind(i,j+1,n)]=2*hfac\n",
    "            if(inrange(i+1,j-1,n)): d[ij,ind(i+1,j-1,n)]=2*hfac\n",
    "\n",
    "            # Source term\n",
    "            f[ij]=fun(h*(i+0.5*j),h*s*j)\n",
    "\n",
    "    # Display the sparsity structure of the derivative matrix\n",
    "    #plt.spy(d)\n",
    "    #plt.show()\n",
    "\n",
    "    # Solve the linear system\n",
    "    u=np.linalg.solve(d,f)\n",
    "\n",
    "    # Compute error\n",
    "    uerr=0\n",
    "    for j in range(1,n):\n",
    "        for i in range(1,n-j):\n",
    "            du=uex(h*(i+0.5*j),h*s*j)-u[ind(i,j,n)]\n",
    "            uerr+=du*du\n",
    "    return sqrt(s*uerr/(2*n*n))\n",
    "\n",
    "# Loop over a range of grid sizes and compute the error\n",
    "\n",
    "times = []\n",
    "for n in (10,20,40,80,160):\n",
    "    start_time = time.time()\n",
    "    poisson_tri(n)\n",
    "    end_time = time.time()\n",
    "    times.append(end_time - start_time)\n",
    "    # print(n,1/n,poisson_tri(n))\n",
    "\n",
    "    # u_direct = np.linalg.solve(d, f)  # Direct solve (for comparison)\n",
    "    # u_poisson = poisson_tri(n)  # Poisson solve\n",
    "    # norm_diff = np.linalg.norm(u_direct - u_poisson)\n",
    "    # print(f\"Norm between direct solve and poisson_tri for n={n}: {norm_diff}\")\n",
    "\n",
    "\n",
    "\n",
    "# Next we fit the timing data to T_n = a*n^b\n",
    "# The following code fits the timing data to a power law T_n = a * n^b using linear regression in log-log space.\n",
    "A = np.vstack([np.log([10,20,40,80,160]), np.ones(len(times))]).T   # Here we create the design matrix for linear regression\n",
    "\n",
    "\n",
    "b, log_a = np.linalg.lstsq(A, np.log(times), rcond=None)[0] # Perform linear least squares fitting\n",
    "a = np.exp(log_a)   # recover a from log_a\n",
    "print(f\"Fitted parameters: a = {a}, b = {b}\")\n",
    "\n",
    "\n",
    "\n",
    "# Plot the timing data\n",
    "plt.loglog((10,20,40,80,160), times)\n",
    "plt.xlabel('n')\n",
    "plt.ylabel('Time (s)')\n",
    "plt.title(f'Log-log plot of time versus n, fitted to T_n = {a:.3e} * n^{b:.3f}')\n",
    "plt.show()\n",
    "\n",
    "\n",
    "# The exponent b indicates the scaling of the time complexity with respect to n."
   ]
  },
  {
   "cell_type": "markdown",
   "id": "8b2ccedd",
   "metadata": {},
   "source": [
    "**Comment on the exponent $b$:**\n",
    "> The exponent $b$ is the scaling of the time complexity with respect to $n$."
   ]
  },
  {
   "cell_type": "markdown",
   "id": "e0344ca2",
   "metadata": {},
   "source": [
    "(b) Write a code to implement the conjugate gradient (CG) algorithm to solve $Au=f$. Your code should not explicitly build $A$ as a dense matrix. It should either represent $A$ as a sparse matrix, or contain a function that can directly compute $Aq$ for a given vector $q$. The CG algorithm should terminate when $||r||_2 < 10^{-10}$, where $r$ is the residual vector. For the case when $n=40$ test that your program gives the same results as the original version."
   ]
  },
  {
   "cell_type": "code",
   "execution_count": 48,
   "id": "6e39040e",
   "metadata": {},
   "outputs": [
    {
     "name": "stdout",
     "output_type": "stream",
     "text": [
      "Error between direct solve and CG solve for n=40: 4.047716690906974e-14\n"
     ]
    }
   ],
   "source": [
    "# (b) Write a code to implement the conjugate gradient (CG) algorithm to solve $Au=f$. Your code should not explicitly build $A$ as a dense matrix. It should either represent $A$ as a sparse matrix, or contain a function that can directly compute $Aq$ for a given vector $q$. The CG algorithm should terminate when $||r||_2 < 10^{-10}$, where $r$ is the residual vector. For the case when $n=40$ test that your program gives the same results as the original version.\n",
    "\n",
    "\n",
    "# Represent A as a sparse matrix-vector multiplication function\n",
    "\n",
    "def apply_A(q, n):\n",
    "    h = 1. / n\n",
    "    m = (n - 1) * (n - 2) // 2\n",
    "    hfac = 1 / (3 * h * h)\n",
    "    Aq = np.zeros(m)\n",
    "    for j in range(1, n):\n",
    "        for i in range(1, n - j):\n",
    "            ij = ind(i, j, n)\n",
    "            Aq[ij] = -12 * hfac * q[ij]\n",
    "            if inrange(i + 1, j, n): Aq[ij] += 2 * hfac * q[ind(i + 1, j, n)]\n",
    "            if inrange(i, j - 1, n): Aq[ij] += 2 * hfac * q[ind(i, j - 1, n)]\n",
    "            if inrange(i - 1, j + 1, n): Aq[ij] += 2 * hfac * q[ind(i - 1, j + 1, n)]\n",
    "            if inrange(i - 1, j, n): Aq[ij] += 2 * hfac * q[ind(i - 1, j, n)]\n",
    "            if inrange(i, j + 1, n): Aq[ij] += 2 * hfac * q[ind(i, j + 1, n)]\n",
    "            if inrange(i + 1, j - 1, n): Aq[ij] += 2 * hfac * q[ind(i + 1, j - 1, n)]\n",
    "    return Aq\n",
    "\n",
    "# From the slides, the CG algorithm is as follows:\n",
    "# 1: Choose initial guess u0 = 0 and tolerance ϵ > 0\n",
    "# 2: r0 = f − Au0, p0 = r0\n",
    "# 3: for k = 1, 2, 3, . . . do\n",
    "# 4:    w_{k−1} =  p_{k−1}\n",
    "# 5:    α_{k−1} = (r^T_{k−1} r_{k−1})/(p^T_{k−1} w_{k−1})\n",
    "# 6:    u_k = u_{k−1} + α_{k−1} p_{k−1}\n",
    "# 7:    r_k = r_{k−1} − α_{k−1} w_{k−1}\n",
    "# 8:    If ∥r_k ∥ < ϵ, then stop\n",
    "# 9:    β_{k−1} = (r^T_{k} rk )/(r^T_{k−1} rk−1)\n",
    "# 10:   p_k = r_k + β_{k−1}p_{k−1}\n",
    "# 11: end for\n",
    "\n",
    "def conjugate_gradient(f, n, tol=1e-10, max_iter=1000):\n",
    "    m = (n - 1) * (n - 2) // 2\n",
    "    u = np.zeros(m)  # Initial guess u0 = 0\n",
    "    r = f - apply_A(u, n)  # r0 = f - Au0\n",
    "    p = r.copy()  # p0 = r0\n",
    "    rsold = np.dot(r, r)\n",
    "\n",
    "    for k in range(max_iter):\n",
    "        Ap = apply_A(p, n)  # wk-1 = Apk-1\n",
    "        alpha = rsold / np.dot(p, Ap)  # αk-1\n",
    "        u += alpha * p  # uk = uk-1 + αk-1pk-1\n",
    "        r -= alpha * Ap  # rk = rk-1 - αk-1wk-1\n",
    "        rsnew = np.dot(r, r)\n",
    "\n",
    "        if np.sqrt(rsnew) < tol:  # If ||rk|| < ϵ, then stop\n",
    "            break\n",
    "        \n",
    "\n",
    "        beta = rsnew / rsold  # βk-1\n",
    "        p = r + beta * p  # pk = rk + βk-1pk-1\n",
    "        rsold = rsnew\n",
    "\n",
    "    return u, k + 1  # Return the solution and number of iterations\n",
    "\n",
    "\n",
    "# Compare the CG implementation with the direct solve for n=40\n",
    "n = 40\n",
    "h = 1. / n\n",
    "m = (n - 1) * (n - 2) // 2\n",
    "f = np.empty((m))\n",
    "for j in range(1, n):\n",
    "    for i in range(1, n - j):\n",
    "        ij = ind(i, j, n)\n",
    "        f[ij] = fun(h * (i + 0.5 * j), h * s * j)\n",
    "# Build the matrix d as in poisson_tri for direct solve\n",
    "d = np.zeros((m, m))\n",
    "hfac = 1 / (3 * h * h)\n",
    "for j in range(1, n):\n",
    "    for i in range(1, n - j):\n",
    "        ij = ind(i, j, n)\n",
    "        d[ij, ij] = -12 * hfac\n",
    "        if inrange(i + 1, j, n): d[ij, ind(i + 1, j, n)] = 2 * hfac\n",
    "        if inrange(i, j - 1, n): d[ij, ind(i, j - 1, n)] = 2 * hfac\n",
    "        if inrange(i - 1, j + 1, n): d[ij, ind(i - 1, j + 1, n)] = 2 * hfac\n",
    "        if inrange(i - 1, j, n): d[ij, ind(i - 1, j, n)] = 2 * hfac\n",
    "        if inrange(i, j + 1, n): d[ij, ind(i, j + 1, n)] = 2 * hfac\n",
    "        if inrange(i + 1, j - 1, n): d[ij, ind(i + 1, j - 1, n)] = 2 * hfac\n",
    "\n",
    "u_direct = np.linalg.solve(d, f)  # Direct solve (for comparison) where d is the matrix A and f is the source term\n",
    "# u_direct = poisson_tri(n)  # Direct solve (for comparison)\n",
    "u_cg, trash = conjugate_gradient(f, n)  # CG solve\n",
    "error = np.linalg.norm(u_direct - u_cg)\n",
    "print(f\"Error between direct solve and CG solve for n={n}: {error}\")\n"
   ]
  },
  {
   "cell_type": "markdown",
   "id": "bf717dcb",
   "metadata": {},
   "source": [
    "**Comment(s):** \n",
    "- When my code is ran, for $n = 40$ the norm between my CG algorithm and the poisson_tri function is consistently $\\approx 5.75936$ but when using np.linalg.solve to solve, the norm between my CG algorithm and np.linalg.solve is consistently $\\approx 4.0477e-14$. "
   ]
  },
  {
   "cell_type": "markdown",
   "id": "342177a8",
   "metadata": {},
   "source": [
    "(c) For $n=10,20,40,80,160$, calculate the number of iterations $k$ required in order to reach the termination criterion."
   ]
  },
  {
   "cell_type": "code",
   "execution_count": 49,
   "id": "5a7bf3cf",
   "metadata": {},
   "outputs": [
    {
     "name": "stdout",
     "output_type": "stream",
     "text": [
      "n=10, Iterations=17\n",
      "n=20, Iterations=36\n",
      "n=40, Iterations=76\n",
      "n=80, Iterations=156\n",
      "n=160, Iterations=319\n"
     ]
    }
   ],
   "source": [
    "# (c) For $n=10,20,40,80,160$, calculate the number of iterations $k$ required in order to reach the termination criterion.\n",
    "\n",
    "iterations = []\n",
    "times = []\n",
    "for n in (10,20,40,80,160):\n",
    "    h = 1. / n\n",
    "    m = (n - 1) * (n - 2) // 2\n",
    "    f = np.empty((m))\n",
    "    for j in range(1, n):\n",
    "        for i in range(1, n - j):\n",
    "            ij = ind(i, j, n)\n",
    "            f[ij] = fun(h * (i + 0.5 * j), h * s * j)\n",
    "    start_time = time.time()\n",
    "    u_cg, iters = conjugate_gradient(f, n)\n",
    "    end_time = time.time()\n",
    "    iterations.append(iters)\n",
    "    times.append(end_time - start_time)\n",
    "    print(f\"n={n}, Iterations={iters}\")\n",
    "    "
   ]
  },
  {
   "cell_type": "markdown",
   "id": "45a8687d",
   "metadata": {},
   "source": [
    "From the code, the number of iterations for each $n$ are given below:\n",
    "| $n$ | Iterations|\n",
    "| ---- | -------|\n",
    "| 10 | 17 |\n",
    "| 20 | 36 |\n",
    "| 40 | 76 |\n",
    "| 80 | 156 |\n",
    "| 160 | 319 |"
   ]
  },
  {
   "cell_type": "markdown",
   "id": "08b052ec",
   "metadata": {},
   "source": [
    "(d) Measure the wall-clock time of the CG algorithm to solve the linear system for a range of grid sizes from $n=10$ up to at least $n=160$. Fit the data to $T_n = an^b$ and comment on how the exponent compares to your result from part (a)."
   ]
  },
  {
   "cell_type": "code",
   "execution_count": 50,
   "id": "a4990dcb",
   "metadata": {},
   "outputs": [
    {
     "name": "stdout",
     "output_type": "stream",
     "text": [
      "Fit parameters: a=2.1759721026163522e-06, b=3.0554469705578216\n"
     ]
    }
   ],
   "source": [
    "# In the previous code cell, I caluculated the wall-clock time for each n as well.\n",
    "\n",
    "\n",
    "# Next we fit the timing data to T_n = a*n^b\n",
    "A = np.vstack([np.log([10,20,40,80,160]), np.ones(len(times))]).T   # Here we create the design matrix for linear regression\n",
    "b = np.linalg.lstsq(A, np.log(times), rcond=None)[0]\n",
    "print(f\"Fit parameters: a={np.exp(b[1])}, b={b[0]}\")\n",
    "\n",
    "# The exponent b differs from the poisson_tri method by <= 0.5 each time the code is run this implies that the CG method is faster than the poisson_tri method."
   ]
  },
  {
   "cell_type": "markdown",
   "id": "c27d51ea",
   "metadata": {},
   "source": [
    "**Comment on $b$ from part (a):** The exponent $b$ differs by $ \\leq 0.5$ each time the code is run with CG $b$ being less than the poisson_tri method. This implies that the CG method runs faster than the poisson_tri method as $n$ gets larger."
   ]
  },
  {
   "cell_type": "markdown",
   "id": "5d06ed40",
   "metadata": {},
   "source": [
    "(e) Consider the block Jacobi preconditioner $M$ with block sizes of $w=\\lfloor \\sqrt{N} \\rfloor$. In general, $w$ will not evenly divide $N$, and therefore let the final block of $M$ be smaller. Implement the preconditioned CG algorithm, and repeat part (c) to measure the number of iterations required to reach the termination criterion."
   ]
  },
  {
   "cell_type": "code",
   "execution_count": null,
   "id": "759d65d8",
   "metadata": {},
   "outputs": [
    {
     "ename": "ValueError",
     "evalue": "operands could not be broadcast together with shapes (741,) (36,) ",
     "output_type": "error",
     "traceback": [
      "\u001b[1;31m---------------------------------------------------------------------------\u001b[0m",
      "\u001b[1;31mValueError\u001b[0m                                Traceback (most recent call last)",
      "Cell \u001b[1;32mIn[68], line 128\u001b[0m\n\u001b[0;32m    126\u001b[0m \u001b[38;5;66;03m# u_direct = np.linalg.solve(d, f)  # Direct solve (for comparison)\u001b[39;00m\n\u001b[0;32m    127\u001b[0m end_time \u001b[38;5;241m=\u001b[39m time\u001b[38;5;241m.\u001b[39mtime()\n\u001b[1;32m--> 128\u001b[0m error_pc \u001b[38;5;241m=\u001b[39m np\u001b[38;5;241m.\u001b[39mlinalg\u001b[38;5;241m.\u001b[39mnorm(u_direct \u001b[38;5;241m-\u001b[39m u_pc)\n\u001b[0;32m    129\u001b[0m \u001b[38;5;28mprint\u001b[39m(\u001b[38;5;124mf\u001b[39m\u001b[38;5;124m\"\u001b[39m\u001b[38;5;124mError between direct solve and preconditioned CG solve for n=\u001b[39m\u001b[38;5;132;01m{\u001b[39;00mn\u001b[38;5;132;01m}\u001b[39;00m\u001b[38;5;124m: \u001b[39m\u001b[38;5;132;01m{\u001b[39;00merror_pc\u001b[38;5;132;01m}\u001b[39;00m\u001b[38;5;124m\"\u001b[39m)\n\u001b[0;32m    130\u001b[0m \u001b[38;5;28mprint\u001b[39m(\u001b[38;5;124mf\u001b[39m\u001b[38;5;124m\"\u001b[39m\u001b[38;5;124mNumber of iterations for n=\u001b[39m\u001b[38;5;132;01m{\u001b[39;00mn\u001b[38;5;132;01m}\u001b[39;00m\u001b[38;5;124m: \u001b[39m\u001b[38;5;132;01m{\u001b[39;00mk\u001b[38;5;132;01m}\u001b[39;00m\u001b[38;5;124m\"\u001b[39m)\n",
      "\u001b[1;31mValueError\u001b[0m: operands could not be broadcast together with shapes (741,) (36,) "
     ]
    }
   ],
   "source": [
    "# (e) Consider the block Jacobi preconditioner $M$ with block sizes of $w=\\lfloor \\sqrt{N} \\rfloor$. In general, $w$ will not evenly divide $N$, and therefore let the final block of $M$ be smaller. Implement the preconditioned CG algorithm, and repeat part (c) to measure the number of iterations required to reach the termination criterion.\n",
    "\n",
    "# From the slides we have that the preconditioned CG algorithm is as follows:\n",
    "\n",
    "# 1: Choose tolerance ϵ > 0\n",
    "# 2: u_0 = 0, r_0 = f , p_1 = M^{−1} f , y_0 = M^{−1} r_0\n",
    "# 3: for k = 1, 2, 3, . . . do\n",
    "# 4:    z = Ap_k\n",
    "# 5:    ν_k = (y_k^T r_{k-1})/(p_k^T z)\n",
    "# 6:    u_k = u_{k-1} + ν_k p_k\n",
    "# 7:    r_k = r_{k-1} − ν_k z\n",
    "# 8:    If ∥r_k ∥ < ϵ, then stop\n",
    "# 9:    y_k = M^{−1} r_k\n",
    "# 10:    µ_k = (y_k^T r_k)/(y_{k-1}^T r_{k-1})\n",
    "# 11:    p_{k+1} = y_k + µ_k p_k\n",
    "# 12: end for\n",
    "\n",
    "# Recall: Block Jacobi Preconditioning: Write the matrix in block form as \n",
    "# A = \\begin{pmatrix}\n",
    "# A_{11} & A_{12} & \\cdots & A_{1k} \\\\\n",
    "# \\vdots & \\vdots & \\ddots & \\vdots \\\\\n",
    "# A_{k1} & A_{k2} & \\cdots & A_{kk} \\\\\n",
    "# \\end{pmatrix}\n",
    "# Define \n",
    "# M = \\begin{pmatrix}\n",
    "# A_{11}  & & 0 \\\\\n",
    "#  & \\ddots  & \\\\\n",
    "# 0 & & A_{kk}  \\\\\n",
    "# \\end{pmatrix}\n",
    "# Preforming $M^{-1}$ requires inverting each block - much faster than soving the original matrix.\n",
    "\n",
    "# Only grab the blocks along the diagonal of A to form M\n",
    "\n",
    "\n",
    "def preconditioned_conjugate_gradient(f, n, w, tol=1e-10, max_iter=1000):\n",
    "    m = (n - 1) * (n - 2) // 2\n",
    "    u = np.zeros(m)  # Initial guess u0 = 0\n",
    "    r = f.copy()  # r0 = f\n",
    "    y = apply_M_inv(r, n, w)  # y0 = M^{-1}r0\n",
    "    p = y.copy()  # p1 = M^{-1}f\n",
    "    r_dot_y_old = np.dot(r, y)\n",
    "\n",
    "    for k in range(max_iter):\n",
    "        Ap = apply_A(p, n)  # z = Apk\n",
    "        nu = r_dot_y_old / np.dot(p, Ap)  # νk\n",
    "        u += nu * p  # uk = uk-1 + νk pk\n",
    "        r -= nu * Ap  # rk = rk-1 - νk z\n",
    "\n",
    "        if np.linalg.norm(r) < tol:  # If ||rk|| < ϵ, then stop\n",
    "            break\n",
    "\n",
    "        y = apply_M_inv(r, n, w)  # yk = M^{-1}rk\n",
    "        r_dot_y_new = np.dot(r, y)\n",
    "        mu = r_dot_y_new / r_dot_y_old  # µk\n",
    "        p = y + mu * p  # pk+1 = yk + µk pk\n",
    "        r_dot_y_old = r_dot_y_new\n",
    "\n",
    "    return u, k + 1  # Return the solution and number of iterations\n",
    "\n",
    "# Compare the preconditioned CG implementation with the direct solve for n=40\n",
    "# n = 40\n",
    "# h = 1. / n\n",
    "# m = (n - 1) * (n - 2) // 2\n",
    "# w = int(sqrt(m))  # Block size\n",
    "# f = np.empty((m))\n",
    "# for j in range(1, n):\n",
    "#     for i in range(1, n - j):\n",
    "#         ij = ind(i, j, n)\n",
    "#         f[ij] = fun(h * (i + 0.5 * j), h * s * j)\n",
    "# start_time = time.time()\n",
    "# u_pc, trash = preconditioned_conjugate_gradient(f, n, w)\n",
    "# u_direct = np.linalg.solve(d, f)  # Direct solve (for comparison)\n",
    "# end_time = time.time()\n",
    "# error_pc = np.linalg.norm(u_direct - u_pc)\n",
    "# print(f\"Error between direct solve and preconditioned CG solve for n={n}: {error_pc}\")\n",
    "\n",
    "# For n=10,20,40,80,160, calculate the number of iterations k required in order to reach the termination criterion using preconditioned CG.\n",
    "\n",
    "for n in [10, 20, 40, 80, 160]:\n",
    "    h = 1. / n\n",
    "    m = (n - 1) * (n - 2) // 2\n",
    "    w = int(sqrt(m))  # Block size\n",
    "    f = np.empty((m))\n",
    "    for j in range(1, n):\n",
    "        for i in range(1, n - j):\n",
    "            ij = ind(i, j, n)\n",
    "            f[ij] = fun(h * (i + 0.5 * j), h * s * j)\n",
    "    start_time = time.time()\n",
    "    u_pc, k = preconditioned_conjugate_gradient(f, n, w)\n",
    "    # u_direct = np.linalg.solve(d, f)  # Direct solve (for comparison)\n",
    "    end_time = time.time()\n",
    "    error_pc = np.linalg.norm(u_direct - u_pc)\n",
    "    print(f\"Error between direct solve and preconditioned CG solve for n={n}: {error_pc}\")\n",
    "    print(f\"Number of iterations for n={n}: {k}\")"
   ]
  },
  {
   "cell_type": "markdown",
   "id": "74d55f5e",
   "metadata": {},
   "source": [
    "(f) Repeat part (d), fitting the timing data to $T_n = an^b$"
   ]
  },
  {
   "cell_type": "code",
   "execution_count": null,
   "id": "14046bcb",
   "metadata": {},
   "outputs": [
    {
     "name": "stdout",
     "output_type": "stream",
     "text": [
      "Fit parameters: a=9.230240784079515e-08, b=4.73535387236966\n"
     ]
    }
   ],
   "source": [
    "# (f) Repeat part (d), fitting the timing data to $T_n = an^b$\n",
    "# In the previous code cell, I caluculated the wall-clock time for each n as well.\n",
    "# Next we fit the timing data to T_n = a*n^b\n",
    "A = np.vstack([np.log([10,20,40,80,160]), np.ones(len(times_pc))]).T   # Here we create the design matrix for linear regression\n",
    "b = np.linalg.lstsq(A, np.log(times_pc), rcond=None)[0]\n",
    "print(f\"Fit parameters: a={np.exp(b[1])}, b={b[0]}\")"
   ]
  },
  {
   "cell_type": "markdown",
   "id": "628e5fef",
   "metadata": {},
   "source": [
    "3. **ODE integration methods**\n",
    "\n",
    "(a) Consider solving the differential equation $y' = f(t,y)$ at timepoints $t_k$ with corresponding numerical solutions $y_k$. The multi-step Nystr&ouml;m numerical method is based upon the integral relation $$y(t_{k+1}) = y(t_{k-1}) + \\int_{t_{k-1}}^{t_{k+1}} f(t,y) dt.$$ \n",
    "\n",
    "Derive an implicit multi-step numerical method by approximating the integrand $f(t,y)$ with the polynomial interpolant using the function values at $t_{k-2}$, $t_{k-1}$, $t_k$, and $t_{k+1}$. Your method should have the form $$y_{k+1} = y_{k-1} + h(\\alpha f_{k-2}+\\beta f_{k-1} + \\gamma f_k+\\eta f_{k+1}) \\tag{1}$$ where $\\alpha$, $\\beta$, $\\gamma$, and $\\eta$ are constants to be determined, $h$ is the timestep interval size, and $f_l=f(t_l,y_l)$ for an arbitrary $l$."
   ]
  },
  {
   "cell_type": "markdown",
   "id": "80270ddc",
   "metadata": {},
   "source": []
  },
  {
   "cell_type": "markdown",
   "id": "a7747848",
   "metadata": {},
   "source": [
    "(b) Find the exact solution to the second-order differential equation $$ y''(t)+2y'(t) + 26y(t)=0, \\tag{2}$$ subject to the initial conditions $y(0)=1$, $y'(0)=0$."
   ]
  },
  {
   "cell_type": "markdown",
   "id": "782d5c78",
   "metadata": {},
   "source": [
    "**Solution to 3(b):**\n",
    "\n",
    "We need to solve the second-order linear homogeneous differential equation:\n",
    "$$y''(t) + 2y'(t) + 26y(t) = 0$$\n",
    "with initial conditions $y(0) = 1$ and $y'(0) = 0$.\n",
    "We can see that the characteristic equation for this is $r^2 + 2r + 26 = 0$. From this we can find the roots:\n",
    "\n",
    "$$r = \\frac{-2 \\pm \\sqrt{4 - 4(1)(26)}}{2} = \\frac{-2 \\pm 10i}{2} = -1 \\pm 5i$$\n",
    "\n",
    "So we have complex roots: $r_1 = -1 + 5i$ and $r_2 = -1 - 5i$. From this we can find that the general solution is given by\n",
    "\n",
    "$$y(t) = e^{-t}(C_1 \\cos(5t) + C_2 \\sin(5t))$$\n",
    "\n",
    "Then, applying the initial conditions, we have that for $y(0) = 1$:\n",
    "\n",
    "$$y(0) = e^{0}(C_1 \\cos(0) + C_2 \\sin(0)) = C_1 = 1$$\n",
    "\n",
    "So $C_1 = 1$.\n",
    "\n",
    "We then can find $y'(t)$ as \n",
    "$$y'(t) = \\frac{d}{dt}[e^{-t}(\\cos(5t) + C_2 \\sin(5t))]$$\n",
    "$$y'(t) = -e^{-t}(\\cos(5t) + C_2 \\sin(5t)) + e^{-t}(-5\\sin(5t) + 5C_2 \\cos(5t))$$\n",
    "$$y'(t) = e^{-t}[-\\cos(5t) - C_2 \\sin(5t) - 5\\sin(5t) + 5C_2 \\cos(5t)]$$\n",
    "$$y'(t) = e^{-t}[(-1 + 5C_2)\\cos(5t) + (-C_2 - 5)\\sin(5t)]$$\n",
    "\n",
    "Then substituting initial conditions from $y'(0) = 0$ we have\n",
    "$$y'(0) = e^{0}[(-1 + 5C_2)\\cos(0) + (-C_2 - 5)\\sin(0)] = -1 + 5C_2 = 0$$\n",
    "\n",
    "Therefore we have that $C_2 = \\frac{1}{5}$. Thus, our exact solution is\n",
    "$$y(t) = e^{-t}\\left(\\cos(5t) + \\frac{1}{5}\\sin(5t)\\right).$$"
   ]
  },
  {
   "cell_type": "markdown",
   "id": "c88951e4",
   "metadata": {},
   "source": [
    "(c) Write $y''(t)+2y'(t) + 26y(t)=0$ as a coupled system of two first-order differential equations for $\\vec{y} = (y,v) = (y,y')$. Solve the system over the interval $0 \\leq t \\leq 3$ with a timestep of $h = 0.02$ using your multi=step method from part (a).\n",
    "\n",
    "Before (1) can be applied, $\\vec{y}_1$ and $\\vec{y}_2$ must be calculated accurately. Use one of the following two approaches:\n",
    "\n",
    "    i. set them based on the exact solution from part (b).\n",
    "\n",
    "    ii. calculate them using the classical fourth-order Runge-Kutta method.\n",
    "    \n",
    "Plot the exact and numerical solutions over the range $0 \\leq t \\leq 3$.\n",
    "\n",
    "Make a log-log plot of the absolute error between the numerical and exact values of $y$ at $t = 3$ as a function of $h$, over the range from $h = 10^{-3}$ to $h = 10^{-1}$.\n",
    "\n",
    "Show that your method is fourth-order accurate."
   ]
  },
  {
   "cell_type": "markdown",
   "id": "50c38fcc",
   "metadata": {},
   "source": [
    "(d) Suppose that instead of setting $\\vec{y}_1$ and $\\vec{y}_2$ accurately, you instead make use of forward Euler steps. Create a log-log plot of the absolute error of $y$ at $t=3$ as a function of $h$. Determine the order of accuracy, and discuss why this is the case."
   ]
  },
  {
   "cell_type": "markdown",
   "id": "93df72b5",
   "metadata": {},
   "source": [
    "4. **Linear Difference Equation** \n",
    "   \n",
    "   (a) Find the general solution of the linear difference equation $$U_{n+3} + 2U_{n+2} - 4U_{n+1} - 8U_n =0. \\tag{3} $$"
   ]
  },
  {
   "cell_type": "markdown",
   "id": "b93c984a",
   "metadata": {},
   "source": [
    "**Solution to 4(a):**\n",
    "\n",
    "We want to find the general solution of the linear difference equation:\n",
    "$$U_{n+3} + 2U_{n+2} - 4U_{n+1} - 8U_n = 0$$\n",
    "\n",
    "For a linear homogeneous difference equation, we assume a solution of the form $U_n = r^n$ and substitute:\n",
    "\n",
    "$$r^{n+3} + 2r^{n+2} - 4r^{n+1} - 8r^n = 0$$\n",
    "$$\\iff r^n(r^3 + 2r^2 - 4r - 8) = 0$$\n",
    "\n",
    "From this we get the characteristic equation $r^3 + 2r^2 - 4r - 8 = 0$. Factoring this equation gives: \n",
    "$$r^3 + 2r^2 - 4r - 8 = r^2(r + 2) - 4(r + 2) = (r^2 - 4)(r + 2)$$\n",
    "\n",
    "$$= (r - 2)(r + 2)^2 = 0$$\n",
    "\n",
    "Thus we have that the roots are $r_1 = 2$ and $r_2 = -2$ with multiplicity $2$. From this we can find the general solution where for $r_1 = 2$ we get $C_1 \\cdot 2^n$ and $r_2 = -2$ the contribution is $C_2 \\cdot (-2)^n + C_3 \\cdot n \\cdot (-2)^n$.\n",
    "\n",
    "Thus we have that the general solution is:\n",
    "$$U_n = C_1 2^n + C_2 (-2)^n + C_3 n (-2)^n$$\n",
    "\n",
    "$$U_n = C_1 2^n + (C_2 + C_3 n) (-2)^n$$"
   ]
  },
  {
   "cell_type": "markdown",
   "id": "3935aafd",
   "metadata": {},
   "source": [
    "(b) Determine the particular solution with initial data $U_0=4$, $U_1=-2$, and $U_2=8$."
   ]
  },
  {
   "cell_type": "markdown",
   "id": "1701cd35",
   "metadata": {},
   "source": [
    "**Solution to 4(b):**\n",
    "\n",
    "From part (a), we have that the general solution is:\n",
    "$$U_n = C_1 2^n + C_2 (-2)^n + C_3 n (-2)^n$$\n",
    "\n",
    "Then, utilizing the initial conditions we have that for $n = 0$: $U_0 = 4$\n",
    "$$U_0 = C_1 \\cdot 2^0 + C_2 \\cdot (-2)^0 + C_3 \\cdot 0 \\cdot (-2)^0$$\n",
    "$$4 = C_1 \\cdot 1 + C_2 \\cdot 1 + C_3 \\cdot 0$$\n",
    "$$4 = C_1 + C_2 \\tag{(Q4.1)}$$\n",
    "\n",
    "For $n = 1$: $U_1 = -2$\n",
    "$$U_1 = C_1 \\cdot 2^1 + C_2 \\cdot (-2)^1 + C_3 \\cdot 1 \\cdot (-2)^1$$\n",
    "$$-2 = C_1 \\cdot 2 + C_2 \\cdot (-2) + C_3 \\cdot 1 \\cdot (-2)$$\n",
    "$$-2 = 2C_1 - 2C_2 - 2C_3 \\quad \\tag{Q4.2}$$\n",
    "\n",
    "For $n = 2$: $U_2 = 8$\n",
    "$$U_2 = C_1 \\cdot 2^2 + C_2 \\cdot (-2)^2 + C_3 \\cdot 2 \\cdot (-2)^2$$\n",
    "$$8 = C_1 \\cdot 4 + C_2 \\cdot 4 + C_3 \\cdot 2 \\cdot 4$$\n",
    "$$8 = 4C_1 + 4C_2 + 8C_3 \\quad \\tag{Q4.3}$$\n",
    "\n",
    "Thus, from (Q4.1), (Q4.2), and (Q4.3) get the following system of equations.\n",
    "1. $C_1 + C_2 = 4$\n",
    "2. $2C_1 - 2C_2 - 2C_3 = -2 \\iff C_1 - C_2 - C_3 = -1$\n",
    "3. $4C_1 + 4C_2 + 8C_3 = 8 \\iff C_1 + C_2 + 2C_3 = 2$\n",
    "\n",
    "Putting this into an extended matrix we have:\n",
    "$$ \\begin{pmatrix}\n",
    "1 & 1 & 0 & 4 \\\\\n",
    "1 & -1 & -1 & -1 \\\\\n",
    "1& 1& 2& 2 \\\\\n",
    "\\end{pmatrix} \\xRightarrow{\\text{RREF}} \n",
    "\\begin{pmatrix}\n",
    "1 & 0 & 0 & 1 \\\\\n",
    "0 & 1 & 0 & 3 \\\\\n",
    "0 & 0 & 1 & -1 \\\\\n",
    "\\end{pmatrix} $$\n",
    "\n",
    "So then $C_1 = 1$, $C_2 = 3$, and $C_3 = -1$. Next we have that the particular solution is given by:\n",
    "$$U_n = 1 \\cdot 2^n + 3 \\cdot (-2)^n + (-1) \\cdot n \\cdot (-2)^n$$\n",
    "$$U_n = 2^n + 3(-2)^n - n(-2)^n$$\n",
    "$$U_n = 2^n + (3 - n)(-2)^n \\tag{\\text{Q4(b) Ans}}$$\n",
    "\n",
    "To verify we can see that\n",
    "- $U_0 = 2^0 + (3 - 0)(-2)^0 = 1 + 3(1) = 4$\n",
    "- $U_1 = 2^1 + (3 - 1)(-2)^1 = 2 + 2(-2) = 2 - 4 = -2$\n",
    "- $U_2 = 2^2 + (3 - 2)(-2)^2 = 4 + 1(4) = 4 + 4 = 8$"
   ]
  },
  {
   "cell_type": "markdown",
   "id": "2ad8d461",
   "metadata": {},
   "source": [
    "(c) Consider the iteration $$\\left(\\begin{array}{c} U_{n+1} \\\\ U_{n+2} \\\\ U_{n+3} \\end{array} \\right)\n",
    "    =\n",
    "    \\left( \\begin{array}{ccc} 0 & 1 & 0 \\\\ 0 & 0 & 1 \\\\ 8 & 4 & -2 \\end{array} \\right)\n",
    "    \\left(\\begin{array}{c} U_{n} \\\\ U_{n+1} \\\\ U_{n+2} \\end{array} \\right),$$ which we can define as $\\mathbf{U}_{n+1} = A \\mathbf{U}_n$. The matrix $A$ is called the companion matrix for the difference equation in (3). A general solution of the difference equation is given by $\\mathbf{U}_{n} = A^n \\mathbf{U}_0$. If $A=RJR^{-1}$ is the Jordan canonical form for $A$, then $A^n = RJ^n R^{-1}$. Determine the eigenvalues and Jordan canonical form for this matrix and show how this is related to the general solution found in part (a)."
   ]
  },
  {
   "cell_type": "markdown",
   "id": "635fbe17",
   "metadata": {},
   "source": []
  }
 ],
 "metadata": {
  "kernelspec": {
   "display_name": "base",
   "language": "python",
   "name": "python3"
  },
  "language_info": {
   "codemirror_mode": {
    "name": "ipython",
    "version": 3
   },
   "file_extension": ".py",
   "mimetype": "text/x-python",
   "name": "python",
   "nbconvert_exporter": "python",
   "pygments_lexer": "ipython3",
   "version": "3.13.5"
  }
 },
 "nbformat": 4,
 "nbformat_minor": 5
}
